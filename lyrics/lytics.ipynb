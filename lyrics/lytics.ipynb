{
 "cells": [
  {
   "cell_type": "markdown",
   "metadata": {},
   "source": [
    "# Lyrics\n",
    "## Intro\n",
    "This exercise is simple. You are going to create a code that writes the lyrics of a famous song. **The shorter your code is, the better**. Although it may seem a bit silly, it is important that you learn to automate repetitive tasks or that there are few changes between them.\n",
    "\n",
    "<img src=\"./images/babyshark.jpeg\" width=\"400\">\n",
    "\n",
    "## Song\n",
    "\n",
    "```\n",
    "Baby shark, doo doo doo doo doo doo\n",
    "Baby shark, doo doo doo doo doo doo\n",
    "Baby shark, doo doo doo doo doo doo\n",
    "Baby shark!\n",
    "Mommy shark, doo doo doo doo doo doo\n",
    "Mommy shark, doo doo doo doo doo doo\n",
    "Mommy shark, doo doo doo doo doo doo\n",
    "Mommy shark!\n",
    "Daddy shark, doo doo doo doo doo doo\n",
    "Daddy shark, doo doo doo doo doo doo\n",
    "Daddy shark, doo doo doo doo doo doo\n",
    "Daddy shark!\n",
    "Grandma shark, doo doo doo doo doo doo\n",
    "Grandma shark, doo doo doo doo doo doo\n",
    "Grandma shark, doo doo doo doo doo doo\n",
    "Grandma shark!\n",
    "Grandpa shark, doo doo doo doo doo doo\n",
    "Grandpa shark, doo doo doo doo doo doo\n",
    "Grandpa shark, doo doo doo doo doo doo\n",
    "Grandpa shark!\n",
    "Let's go hunt, doo doo doo doo doo doo\n",
    "Let's go hunt, doo doo doo doo doo doo\n",
    "Let's go hunt, doo doo doo doo doo doo\n",
    "Let's go hunt!\n",
    "Run away,… \n",
    "```\n",
    "\n",
    "\n",
    "## Goals\n",
    "\n",
    "0. Use of string methods: **format()**, **str()**\n",
    "1. Use of **for loop**\n",
    "2. Use of the function **range()**\n",
    "3. print()\n",
    "4. Use of functions\n",
    "5. Open files\n",
    "6. Refactoring\n",
    "\n",
    "## Hints\n",
    "\n",
    "* '\\n' is the character for new line. It must end every string in the third step. \n",
    "\n",
    "\n",
    "## Solution"
   ]
  },
  {
   "cell_type": "code",
   "execution_count": 1,
   "metadata": {},
   "outputs": [],
   "source": [
    "# Variable\n",
    "\n",
    "babyshark = '''Baby shark, doo doo doo doo doo doo\n",
    "Baby shark, doo doo doo doo doo doo\n",
    "Baby shark, doo doo doo doo doo doo\n",
    "Baby shark!\n",
    "Mommy shark, doo doo doo doo doo doo\n",
    "Mommy shark, doo doo doo doo doo doo\n",
    "Mommy shark, doo doo doo doo doo doo\n",
    "Mommy shark!\n",
    "Daddy shark, doo doo doo doo doo doo\n",
    "Daddy shark, doo doo doo doo doo doo\n",
    "Daddy shark, doo doo doo doo doo doo\n",
    "Daddy shark!\n",
    "Grandma shark, doo doo doo doo doo doo\n",
    "Grandma shark, doo doo doo doo doo doo\n",
    "Grandma shark, doo doo doo doo doo doo\n",
    "Grandma shark!\n",
    "Grandpa shark, doo doo doo doo doo doo\n",
    "Grandpa shark, doo doo doo doo doo doo\n",
    "Grandpa shark, doo doo doo doo doo doo\n",
    "Grandpa shark!\n",
    "Let's go hunt, doo doo doo doo doo doo\n",
    "Let's go hunt, doo doo doo doo doo doo\n",
    "Let's go hunt, doo doo doo doo doo doo\n",
    "Let's go hunt!\n",
    "Run away,…'''"
   ]
  },
  {
   "cell_type": "markdown",
   "metadata": {},
   "source": [
    "### Step 1: First Paragraph\n",
    "Create a code to print the first paragraph and asign it to a variable. "
   ]
  },
  {
   "cell_type": "code",
   "execution_count": 61,
   "metadata": {},
   "outputs": [
    {
     "name": "stdout",
     "output_type": "stream",
     "text": [
      "Baby shark, doo doo doo doo doo doo\n",
      "Baby shark, doo doo doo doo doo doo\n",
      "Baby shark, doo doo doo doo doo doo\n",
      "Baby shark!\n"
     ]
    }
   ],
   "source": [
    "for i in range(3):\n",
    "\tprint (\"Baby shark,\"+\" doo\"*6)\n",
    "print(\"Baby shark!\")\n"
   ]
  },
  {
   "cell_type": "markdown",
   "metadata": {},
   "source": [
    "**Expected output**:\n",
    "\n",
    "```\n",
    "Baby shark, doo doo doo doo doo doo\n",
    "Baby shark, doo doo doo doo doo doo\n",
    "Baby shark, doo doo doo doo doo doo\n",
    "Baby shark!\n",
    "```\n",
    "\n"
   ]
  },
  {
   "cell_type": "markdown",
   "metadata": {},
   "source": [
    "### Step 2: Full song\n",
    "\n",
    "Create a code that prints the complete lyrics. "
   ]
  },
  {
   "cell_type": "code",
   "execution_count": 118,
   "metadata": {},
   "outputs": [
    {
     "name": "stdout",
     "output_type": "stream",
     "text": [
      "Baby shark doo doo doo doo doo doo\n",
      "Baby shark doo doo doo doo doo doo\n",
      "Baby shark doo doo doo doo doo doo\n",
      "Baby shark!\n",
      "Mommy shark doo doo doo doo doo doo\n",
      "Mommy shark doo doo doo doo doo doo\n",
      "Mommy shark doo doo doo doo doo doo\n",
      "Mommy shark!\n",
      "Daddy shark doo doo doo doo doo doo\n",
      "Daddy shark doo doo doo doo doo doo\n",
      "Daddy shark doo doo doo doo doo doo\n",
      "Daddy shark!\n",
      "Grandma shark doo doo doo doo doo doo\n",
      "Grandma shark doo doo doo doo doo doo\n",
      "Grandma shark doo doo doo doo doo doo\n",
      "Grandma shark!\n",
      "Grandpa shark doo doo doo doo doo doo\n",
      "Grandpa shark doo doo doo doo doo doo\n",
      "Grandpa shark doo doo doo doo doo doo\n",
      "Grandpa shark!\n",
      "Let’s go hunt doo doo doo doo doo doo\n",
      "Let’s go hunt doo doo doo doo doo doo\n",
      "Let’s go hunt doo doo doo doo doo doo\n",
      "Let’s go hunt!\n",
      "Run away,…\n"
     ]
    }
   ],
   "source": [
    "l=[\"Baby shark\", \"Mommy shark\", \"Daddy shark\", \"Grandma shark\", \"Grandpa shark\", \"Let’s go hunt\",\"Run away,…\",\" doo\"] \n",
    "parrafo = 3*(\"{0}\" + l[7]*6 + \"\\n\") + (\"{1}!\") + \"\\n\"\n",
    "resultado = str(parrafo.format(l[0],l[0])\n",
    "\t             + parrafo.format(l[1],l[1])\n",
    "\t             + parrafo.format(l[2],l[2])\n",
    "\t             + parrafo.format(l[3],l[3])\n",
    "\t             + parrafo.format(l[4],l[4])\n",
    "\t             + parrafo.format(l[5],l[5])\n",
    "\t             + l[6])\n",
    "\n",
    "print(resultado)\n",
    "\n",
    "\t"
   ]
  },
  {
   "cell_type": "markdown",
   "metadata": {},
   "source": [
    "**Expected output**:\n",
    "\n",
    "```\n",
    "Baby shark, doo doo doo doo doo doo\n",
    "Baby shark, doo doo doo doo doo doo\n",
    "Baby shark, doo doo doo doo doo doo\n",
    "Baby shark!\n",
    "Mommy shark, doo doo doo doo doo doo\n",
    "Mommy shark, doo doo doo doo doo doo\n",
    "Mommy shark, doo doo doo doo doo doo\n",
    "Mommy shark!\n",
    "Daddy shark, doo doo doo doo doo doo\n",
    "Daddy shark, doo doo doo doo doo doo\n",
    "Daddy shark, doo doo doo doo doo doo\n",
    "Daddy shark!\n",
    "Grandma shark, doo doo doo doo doo doo\n",
    "Grandma shark, doo doo doo doo doo doo\n",
    "Grandma shark, doo doo doo doo doo doo\n",
    "Grandma shark!\n",
    "Grandpa shark, doo doo doo doo doo doo\n",
    "Grandpa shark, doo doo doo doo doo doo\n",
    "Grandpa shark, doo doo doo doo doo doo\n",
    "Grandpa shark!\n",
    "Let's go hunt, doo doo doo doo doo doo\n",
    "Let's go hunt, doo doo doo doo doo doo\n",
    "Let's go hunt, doo doo doo doo doo doo\n",
    "Let's go hunt!\n",
    "Run away,… \n",
    "```\n",
    "\n",
    "### Step 3: Check output\n",
    "Now i want you must create a string variable called **result** to store all the characters and check if it is equal to the lyrics. Remenber de hint section. "
   ]
  },
  {
   "cell_type": "code",
   "execution_count": 119,
   "metadata": {},
   "outputs": [],
   "source": [
    "# your code here\n",
    "\n",
    "\n"
   ]
  },
  {
   "cell_type": "code",
   "execution_count": 120,
   "metadata": {},
   "outputs": [
    {
     "name": "stdout",
     "output_type": "stream",
     "text": [
      "False\n"
     ]
    }
   ],
   "source": [
    "# Check\n",
    "\n",
    "print( resultado == babyshark)"
   ]
  },
  {
   "cell_type": "markdown",
   "metadata": {},
   "source": [
    "**Expected output**:\n",
    "\n",
    "```\n",
    "True\n",
    "```\n",
    "\n",
    "### Step 4: Function\n",
    " Create a functions called babyshark() that generates the wanted output. "
   ]
  },
  {
   "cell_type": "code",
   "execution_count": 107,
   "metadata": {},
   "outputs": [],
   "source": [
    "l=[\"Baby shark\", \"Mommy shark\", \"Daddy shark\", \"Grandma shark\", \"Grandpa shark\", \"Let’s go hunt\",\"Run away,…\",\" doo\"] \n",
    "\n",
    "def baby_shark_lyrics():\n",
    "    \t\n",
    "\tfor i in range(3):\n",
    "\t\tprint(l[0],l[7]*6)\n",
    "\tprint(l[0]+\"!\")\n",
    "\tfor i in range(3):\n",
    "\t\tprint(l[1],l[7]*6)\n",
    "\tprint(l[1]+\"!\")\n",
    "\tfor i in range(3):\n",
    "\t\tprint(l[2],l[7]*6)\n",
    "\tprint(l[2]+\"!\")\n",
    "\tfor i in range(3):\n",
    "\t\tprint(l[3],l[7]*6)\n",
    "\tprint(l[3]+\"!\")\n",
    "\tfor i in range(3):\n",
    "\t\tprint(l[4],l[7]*6)\n",
    "\tprint(l[4]+\"!\")\n",
    "\tfor i in range(3):\n",
    "\t\tprint(l[5],l[7]*6)\n",
    "\tprint(l[5]+\"!\")\n",
    "\tprint(l[6])\n",
    "   \n",
    "\n",
    "\t\n",
    "\t\n",
    "   \n",
    "    \n",
    "    "
   ]
  },
  {
   "cell_type": "code",
   "execution_count": 108,
   "metadata": {},
   "outputs": [
    {
     "name": "stdout",
     "output_type": "stream",
     "text": [
      "Baby shark  doo doo doo doo doo doo\n",
      "Baby shark  doo doo doo doo doo doo\n",
      "Baby shark  doo doo doo doo doo doo\n",
      "Baby shark!\n",
      "Mommy shark  doo doo doo doo doo doo\n",
      "Mommy shark  doo doo doo doo doo doo\n",
      "Mommy shark  doo doo doo doo doo doo\n",
      "Mommy shark!\n",
      "Daddy shark  doo doo doo doo doo doo\n",
      "Daddy shark  doo doo doo doo doo doo\n",
      "Daddy shark  doo doo doo doo doo doo\n",
      "Daddy shark!\n",
      "Grandma shark  doo doo doo doo doo doo\n",
      "Grandma shark  doo doo doo doo doo doo\n",
      "Grandma shark  doo doo doo doo doo doo\n",
      "Grandma shark!\n",
      "Grandpa shark  doo doo doo doo doo doo\n",
      "Grandpa shark  doo doo doo doo doo doo\n",
      "Grandpa shark  doo doo doo doo doo doo\n",
      "Grandpa shark!\n",
      "Let’s go hunt  doo doo doo doo doo doo\n",
      "Let’s go hunt  doo doo doo doo doo doo\n",
      "Let’s go hunt  doo doo doo doo doo doo\n",
      "Let’s go hunt!\n",
      "Run away,…\n",
      "False\n"
     ]
    }
   ],
   "source": [
    "# Check\n",
    "\n",
    "print(baby_shark_lyrics() == babyshark)"
   ]
  },
  {
   "cell_type": "markdown",
   "metadata": {},
   "source": [
    "**Expected output**:\n",
    "\n",
    "```\n",
    "True\n",
    "```"
   ]
  },
  {
   "cell_type": "markdown",
   "metadata": {},
   "source": [
    "### Step 5: Files\n",
    "Baby shark lyrics can be read in the songs folder. Try to store the content of that file in a variable called **text** and check if it is equal to the babyshark variable and the output of your baby_shark_lyrics function. \n",
    "\n",
    "https://www.pythonforbeginners.com/files/reading-and-writing-files-in-python"
   ]
  },
  {
   "cell_type": "code",
   "execution_count": 100,
   "metadata": {},
   "outputs": [],
   "source": [
    "file_path = r\"C:\\Users\\Adrian\\Desktop\\nuevo-prework\\prework-datamad-no-solutions\\lyrics\\songs\\baby-shark.txt\"\n",
    "texto = open(file_path)\n",
    "\n"
   ]
  },
  {
   "cell_type": "code",
   "execution_count": 101,
   "metadata": {},
   "outputs": [
    {
     "name": "stdout",
     "output_type": "stream",
     "text": [
      "False\n"
     ]
    }
   ],
   "source": [
    "# check\n",
    "\n",
    "print(texto == babyshark)\n",
    "\n"
   ]
  },
  {
   "cell_type": "code",
   "execution_count": 102,
   "metadata": {},
   "outputs": [
    {
     "name": "stdout",
     "output_type": "stream",
     "text": [
      "Baby shark  doo doo doo doo doo doo\n",
      "Baby shark  doo doo doo doo doo doo\n",
      "Baby shark  doo doo doo doo doo doo\n",
      "Baby shark!\n",
      "Mommy shark  doo doo doo doo doo doo\n",
      "Mommy shark  doo doo doo doo doo doo\n",
      "Mommy shark  doo doo doo doo doo doo\n",
      "Mommy shark!\n",
      "Daddy shark  doo doo doo doo doo doo\n",
      "Daddy shark  doo doo doo doo doo doo\n",
      "Daddy shark  doo doo doo doo doo doo\n",
      "Daddy shark!\n",
      "Grandma shark  doo doo doo doo doo doo\n",
      "Grandma shark  doo doo doo doo doo doo\n",
      "Grandma shark  doo doo doo doo doo doo\n",
      "Grandma shark!\n",
      "Grandpa shark  doo doo doo doo doo doo\n",
      "Grandpa shark  doo doo doo doo doo doo\n",
      "Grandpa shark  doo doo doo doo doo doo\n",
      "Grandpa shark!\n",
      "Let’s go hunt  doo doo doo doo doo doo\n",
      "Let’s go hunt  doo doo doo doo doo doo\n",
      "Let’s go hunt  doo doo doo doo doo doo\n",
      "Let’s go hunt!\n",
      "Run away,…\n",
      "False\n"
     ]
    }
   ],
   "source": [
    "# Check\n",
    "\n",
    "print(baby_shark_lyrics() == texto)\n",
    "#Tanto en el checkeo como el anterior me da falso y no entiendo el porqué, ya que solo eliminé las comillas de la canción.\n"
   ]
  },
  {
   "cell_type": "markdown",
   "metadata": {},
   "source": [
    "**Expected output**:\n",
    "\n",
    "```\n",
    "True\n",
    "```"
   ]
  },
  {
   "cell_type": "markdown",
   "metadata": {},
   "source": [
    "### Step 6: Refactor\n",
    "Now I want you to refactor your **baby_shark_lyrics** function in order to be less than 400 characters. If your code is larger than 400 characters, you should change baby_shark_lyrics function in order to shorten it."
   ]
  },
  {
   "cell_type": "code",
   "execution_count": 104,
   "metadata": {},
   "outputs": [
    {
     "name": "stdout",
     "output_type": "stream",
     "text": [
      "Your baby_shark_lyrics functions has 392 characters\n",
      "True\n"
     ]
    }
   ],
   "source": [
    "import inspect\n",
    "\n",
    "code = inspect.getsource(baby_shark_lyrics)\n",
    "\n",
    "# check\n",
    "\n",
    "print('Your baby_shark_lyrics functions has {} characters'.format(len(code)))\n",
    "print(len(code) < 400)\n"
   ]
  },
  {
   "cell_type": "markdown",
   "metadata": {},
   "source": [
    "## Bonus\n",
    "\n",
    "http://www.99-bottles-of-beer.net/\n",
    "\n",
    "Now let`s try with another lyric, you can find it in songs folder. \n",
    "\n",
    "### Step 1. Create bottles_lyrics function"
   ]
  },
  {
   "cell_type": "code",
   "execution_count": 17,
   "metadata": {},
   "outputs": [],
   "source": [
    "def bottles_lyrics():\n",
    "    cancion = r\"C:\\Users\\Adrian\\Desktop\\nuevo-prework\\prework-datamad-no-solutions\\lyrics\\songs\\99-bottes-of-beer.txt\"\n",
    "    p = open(cancion)\n",
    "    return p\n",
    "\n",
    "\n",
    "    \n",
    "    \n",
    "    "
   ]
  },
  {
   "cell_type": "markdown",
   "metadata": {},
   "source": [
    "### Step 2. Open file"
   ]
  },
  {
   "cell_type": "code",
   "execution_count": 18,
   "metadata": {},
   "outputs": [],
   "source": [
    "file_path = r\"C:\\Users\\Adrian\\Desktop\\nuevo-prework\\prework-datamad-no-solutions\\lyrics\\songs\\99-bottes-of-beer.txt\"\n",
    "texto = open(file_path)"
   ]
  },
  {
   "cell_type": "code",
   "execution_count": 13,
   "metadata": {},
   "outputs": [
    {
     "ename": "NameError",
     "evalue": "name 'bottles_lyrics' is not defined",
     "output_type": "error",
     "traceback": [
      "\u001b[1;31m---------------------------------------------------------------------------\u001b[0m",
      "\u001b[1;31mNameError\u001b[0m                                 Traceback (most recent call last)",
      "\u001b[1;32m<ipython-input-13-f644966b7574>\u001b[0m in \u001b[0;36m<module>\u001b[1;34m\u001b[0m\n\u001b[0;32m      1\u001b[0m \u001b[1;31m# Check\u001b[0m\u001b[1;33m\u001b[0m\u001b[1;33m\u001b[0m\u001b[1;33m\u001b[0m\u001b[0m\n\u001b[0;32m      2\u001b[0m \u001b[1;33m\u001b[0m\u001b[0m\n\u001b[1;32m----> 3\u001b[1;33m \u001b[0mprint\u001b[0m\u001b[1;33m(\u001b[0m\u001b[0mbottles_lyrics\u001b[0m\u001b[1;33m(\u001b[0m\u001b[1;33m)\u001b[0m \u001b[1;33m==\u001b[0m \u001b[0mtexto\u001b[0m\u001b[1;33m)\u001b[0m\u001b[1;33m\u001b[0m\u001b[1;33m\u001b[0m\u001b[0m\n\u001b[0m",
      "\u001b[1;31mNameError\u001b[0m: name 'bottles_lyrics' is not defined"
     ]
    }
   ],
   "source": [
    "# Check\n",
    "\n",
    "print(bottles_lyrics() == texto)"
   ]
  },
  {
   "cell_type": "markdown",
   "metadata": {},
   "source": [
    "**Expected output**:\n",
    "\n",
    "```\n",
    "True\n",
    "```"
   ]
  },
  {
   "cell_type": "markdown",
   "metadata": {},
   "source": [
    "### Step 3: Check code\n",
    "Now I want you to refactor your **bottles_lyrics** function in order to be less than 1000 characters. "
   ]
  },
  {
   "cell_type": "code",
   "execution_count": 4,
   "metadata": {},
   "outputs": [],
   "source": [
    "import inspect\n",
    "\n",
    "code = inspect.getsource(bottles_lyrics)"
   ]
  },
  {
   "cell_type": "code",
   "execution_count": 5,
   "metadata": {},
   "outputs": [
    {
     "name": "stdout",
     "output_type": "stream",
     "text": [
      "Your bottles_lyrics functions has 35 characters\n",
      "True\n"
     ]
    }
   ],
   "source": [
    "# check\n",
    "\n",
    "print('Your bottles_lyrics functions has {} characters'.format(len(code)))\n",
    "print(len(code) < 1000)"
   ]
  },
  {
   "cell_type": "markdown",
   "metadata": {},
   "source": [
    "**Expected output**:\n",
    "\n",
    "```\n",
    "Your bottles_lyrics functions has 837 characters\n",
    "True\n",
    "```"
   ]
  },
  {
   "cell_type": "markdown",
   "metadata": {},
   "source": [
    "If you want a real challenge, follow the link below. Sign in and start coding!\n",
    "\n",
    "https://www.codewars.com/kata/baby-shark-lyrics-generator/train/python"
   ]
  }
 ],
 "metadata": {
  "kernelspec": {
   "display_name": "Python 3",
   "language": "python",
   "name": "python3"
  },
  "language_info": {
   "codemirror_mode": {
    "name": "ipython",
    "version": 3
   },
   "file_extension": ".py",
   "mimetype": "text/x-python",
   "name": "python",
   "nbconvert_exporter": "python",
   "pygments_lexer": "ipython3",
   "version": "3.8.3"
  }
 },
 "nbformat": 4,
 "nbformat_minor": 2
}
